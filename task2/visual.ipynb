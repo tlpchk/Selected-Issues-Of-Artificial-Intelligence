{
 "cells": [
  {
   "cell_type": "code",
   "execution_count": 2,
   "metadata": {},
   "outputs": [],
   "source": [
    "import pandas as pd"
   ]
  },
  {
   "cell_type": "code",
   "execution_count": null,
   "metadata": {},
   "outputs": [],
   "source": [
    "import seaborn as sns\n",
    "N = 15\n",
    "x = list(range(1,N+1))\n",
    "\n",
    "df_10 = pd.read_csv(\"q_mcts_vs_mcts_10.csv\")\n",
    "df_50 = pd.read_csv(\"q_mcts_vs_mcts_10.csv\")\n",
    "\n",
    "mcts_10 = df_10['mcts']\n",
    "qmcts_10 = df_10['mct']\n",
    "\n",
    "df = pd.DataFrame(zip(x*N, [\"10\"]*N+[\"30\"]*N+[\"100\"]*N, p_10+p_30+p_100), columns=[\"n\", \"time (ms)\", \"avg. plyouts\"])\n",
    "plt.figure(figsize=(10, 6))\n",
    "sns.barplot(x=\"n\", hue=\"time (ms)\", y=\"avg. plyouts\", data=df)\n",
    "plt.show()"
   ]
  },
  {
   "cell_type": "code",
   "execution_count": 5,
   "metadata": {},
   "outputs": [
    {
     "data": {
      "image/png": "[encoded data removed]",
      "text/plain": [
       "<Figure size 576x216 with 1 Axes>"
      ]
     },
     "metadata": {
      "needs_background": "light"
     },
     "output_type": "display_data"
    }
   ],
   "source": [
    "# import matplotlib.pyplot as plt\n",
    "\n",
    "# plt.figure(figsize=(8, 3))\n",
    "\n",
    "# xlabel = \"n\"\n",
    "# ylabel = \"avg. convincity\"\n",
    "# title = \"Coin MCTS\"\n",
    "\n",
    "# x = df[xlabel]\n",
    "# y = df[ylabel]\n",
    "\n",
    "# plt.bar(x,y,align='center')\n",
    "\n",
    "# plt.xlabel(xlabel)\n",
    "# plt.ylabel(ylabel)\n",
    "# plt.title(title)\n",
    "# plt.show()"
   ]
  },
  {
   "cell_type": "code",
   "execution_count": null,
   "metadata": {},
   "outputs": [],
   "source": []
  }
 ],
 "metadata": {
  "kernelspec": {
   "display_name": "venv",
   "language": "python",
   "name": "venv"
  },
  "language_info": {
   "codemirror_mode": {
    "name": "ipython",
    "version": 3
   },
   "file_extension": ".py",
   "mimetype": "text/x-python",
   "name": "python",
   "nbconvert_exporter": "python",
   "pygments_lexer": "ipython3",
   "version": "3.7.7"
  }
 },
 "nbformat": 4,
 "nbformat_minor": 4
}
